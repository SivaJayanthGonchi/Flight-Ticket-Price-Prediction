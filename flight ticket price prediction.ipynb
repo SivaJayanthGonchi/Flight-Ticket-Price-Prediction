{
 "cells": [
  {
   "cell_type": "code",
   "execution_count": 13,
   "metadata": {
    "id": "1Tpa4OIjxWA3"
   },
   "outputs": [],
   "source": [
    "import pandas as pd\n",
    "import matplotlib.pyplot as plt\n",
    "plt.style.use('ggplot')\n"
   ]
  },
  {
   "cell_type": "code",
   "execution_count": 14,
   "metadata": {
    "id": "EfcWHbWVyjWE"
   },
   "outputs": [],
   "source": [
    "# Make sure pandas is imported in this cell as well.\n",
    "import pandas as pd\n",
    "\n",
    "df = pd.read_csv('Clean_Dataset.csv')"
   ]
  },
  {
   "cell_type": "code",
   "execution_count": 15,
   "metadata": {
    "colab": {
     "base_uri": "https://localhost:8080/",
     "height": 313
    },
    "executionInfo": {
     "elapsed": 534,
     "status": "ok",
     "timestamp": 1732009180388,
     "user": {
      "displayName": "Sai Kiran",
      "userId": "01262898004854814321"
     },
     "user_tz": -330
    },
    "id": "JVVbd_4aym7_",
    "outputId": "a37e2390-658b-4589-e26f-408d54eec287"
   },
   "outputs": [
    {
     "data": {
      "text/html": [
       "<div>\n",
       "<style scoped>\n",
       "    .dataframe tbody tr th:only-of-type {\n",
       "        vertical-align: middle;\n",
       "    }\n",
       "\n",
       "    .dataframe tbody tr th {\n",
       "        vertical-align: top;\n",
       "    }\n",
       "\n",
       "    .dataframe thead th {\n",
       "        text-align: right;\n",
       "    }\n",
       "</style>\n",
       "<table border=\"1\" class=\"dataframe\">\n",
       "  <thead>\n",
       "    <tr style=\"text-align: right;\">\n",
       "      <th></th>\n",
       "      <th>Unnamed: 0</th>\n",
       "      <th>airline</th>\n",
       "      <th>flight</th>\n",
       "      <th>source_city</th>\n",
       "      <th>departure_time</th>\n",
       "      <th>stops</th>\n",
       "      <th>arrival_time</th>\n",
       "      <th>destination_city</th>\n",
       "      <th>class</th>\n",
       "      <th>duration</th>\n",
       "      <th>days_left</th>\n",
       "      <th>price</th>\n",
       "    </tr>\n",
       "  </thead>\n",
       "  <tbody>\n",
       "    <tr>\n",
       "      <th>0</th>\n",
       "      <td>0</td>\n",
       "      <td>SpiceJet</td>\n",
       "      <td>SG-8709</td>\n",
       "      <td>Delhi</td>\n",
       "      <td>Evening</td>\n",
       "      <td>zero</td>\n",
       "      <td>Night</td>\n",
       "      <td>Mumbai</td>\n",
       "      <td>Economy</td>\n",
       "      <td>2.17</td>\n",
       "      <td>1</td>\n",
       "      <td>5953</td>\n",
       "    </tr>\n",
       "    <tr>\n",
       "      <th>1</th>\n",
       "      <td>1</td>\n",
       "      <td>SpiceJet</td>\n",
       "      <td>SG-8157</td>\n",
       "      <td>Delhi</td>\n",
       "      <td>Early_Morning</td>\n",
       "      <td>zero</td>\n",
       "      <td>Morning</td>\n",
       "      <td>Mumbai</td>\n",
       "      <td>Economy</td>\n",
       "      <td>2.33</td>\n",
       "      <td>1</td>\n",
       "      <td>5953</td>\n",
       "    </tr>\n",
       "    <tr>\n",
       "      <th>2</th>\n",
       "      <td>2</td>\n",
       "      <td>AirAsia</td>\n",
       "      <td>I5-764</td>\n",
       "      <td>Delhi</td>\n",
       "      <td>Early_Morning</td>\n",
       "      <td>zero</td>\n",
       "      <td>Early_Morning</td>\n",
       "      <td>Mumbai</td>\n",
       "      <td>Economy</td>\n",
       "      <td>2.17</td>\n",
       "      <td>1</td>\n",
       "      <td>5956</td>\n",
       "    </tr>\n",
       "    <tr>\n",
       "      <th>3</th>\n",
       "      <td>3</td>\n",
       "      <td>Vistara</td>\n",
       "      <td>UK-995</td>\n",
       "      <td>Delhi</td>\n",
       "      <td>Morning</td>\n",
       "      <td>zero</td>\n",
       "      <td>Afternoon</td>\n",
       "      <td>Mumbai</td>\n",
       "      <td>Economy</td>\n",
       "      <td>2.25</td>\n",
       "      <td>1</td>\n",
       "      <td>5955</td>\n",
       "    </tr>\n",
       "    <tr>\n",
       "      <th>4</th>\n",
       "      <td>4</td>\n",
       "      <td>Vistara</td>\n",
       "      <td>UK-963</td>\n",
       "      <td>Delhi</td>\n",
       "      <td>Morning</td>\n",
       "      <td>zero</td>\n",
       "      <td>Morning</td>\n",
       "      <td>Mumbai</td>\n",
       "      <td>Economy</td>\n",
       "      <td>2.33</td>\n",
       "      <td>1</td>\n",
       "      <td>5955</td>\n",
       "    </tr>\n",
       "  </tbody>\n",
       "</table>\n",
       "</div>"
      ],
      "text/plain": [
       "   Unnamed: 0   airline   flight source_city departure_time stops  \\\n",
       "0           0  SpiceJet  SG-8709       Delhi        Evening  zero   \n",
       "1           1  SpiceJet  SG-8157       Delhi  Early_Morning  zero   \n",
       "2           2   AirAsia   I5-764       Delhi  Early_Morning  zero   \n",
       "3           3   Vistara   UK-995       Delhi        Morning  zero   \n",
       "4           4   Vistara   UK-963       Delhi        Morning  zero   \n",
       "\n",
       "    arrival_time destination_city    class  duration  days_left  price  \n",
       "0          Night           Mumbai  Economy      2.17          1   5953  \n",
       "1        Morning           Mumbai  Economy      2.33          1   5953  \n",
       "2  Early_Morning           Mumbai  Economy      2.17          1   5956  \n",
       "3      Afternoon           Mumbai  Economy      2.25          1   5955  \n",
       "4        Morning           Mumbai  Economy      2.33          1   5955  "
      ]
     },
     "execution_count": 15,
     "metadata": {},
     "output_type": "execute_result"
    }
   ],
   "source": [
    "df.head()"
   ]
  },
  {
   "cell_type": "code",
   "execution_count": 16,
   "metadata": {
    "colab": {
     "base_uri": "https://localhost:8080/"
    },
    "executionInfo": {
     "elapsed": 437,
     "status": "ok",
     "timestamp": 1732009210407,
     "user": {
      "displayName": "Sai Kiran",
      "userId": "01262898004854814321"
     },
     "user_tz": -330
    },
    "id": "DCouWvkBynGv",
    "outputId": "b3e17bf3-4647-4e11-ec52-39a4358ad0e4"
   },
   "outputs": [
    {
     "data": {
      "text/plain": [
       "(300153, 12)"
      ]
     },
     "execution_count": 16,
     "metadata": {},
     "output_type": "execute_result"
    }
   ],
   "source": [
    "df.shape"
   ]
  },
  {
   "cell_type": "code",
   "execution_count": 17,
   "metadata": {
    "id": "EV_odDICynPm"
   },
   "outputs": [],
   "source": [
    "df.drop(['Unnamed: 0', 'flight', 'duration'], axis = 1, inplace=True)"
   ]
  },
  {
   "cell_type": "code",
   "execution_count": 18,
   "metadata": {
    "colab": {
     "base_uri": "https://localhost:8080/",
     "height": 226
    },
    "executionInfo": {
     "elapsed": 468,
     "status": "ok",
     "timestamp": 1732009252729,
     "user": {
      "displayName": "Sai Kiran",
      "userId": "01262898004854814321"
     },
     "user_tz": -330
    },
    "id": "6eKUzQEtynTB",
    "outputId": "77743b39-75ac-4a66-e793-996f1cb38dc9"
   },
   "outputs": [
    {
     "data": {
      "text/html": [
       "<div>\n",
       "<style scoped>\n",
       "    .dataframe tbody tr th:only-of-type {\n",
       "        vertical-align: middle;\n",
       "    }\n",
       "\n",
       "    .dataframe tbody tr th {\n",
       "        vertical-align: top;\n",
       "    }\n",
       "\n",
       "    .dataframe thead th {\n",
       "        text-align: right;\n",
       "    }\n",
       "</style>\n",
       "<table border=\"1\" class=\"dataframe\">\n",
       "  <thead>\n",
       "    <tr style=\"text-align: right;\">\n",
       "      <th></th>\n",
       "      <th>airline</th>\n",
       "      <th>source_city</th>\n",
       "      <th>departure_time</th>\n",
       "      <th>stops</th>\n",
       "      <th>arrival_time</th>\n",
       "      <th>destination_city</th>\n",
       "      <th>class</th>\n",
       "      <th>days_left</th>\n",
       "      <th>price</th>\n",
       "    </tr>\n",
       "  </thead>\n",
       "  <tbody>\n",
       "    <tr>\n",
       "      <th>0</th>\n",
       "      <td>SpiceJet</td>\n",
       "      <td>Delhi</td>\n",
       "      <td>Evening</td>\n",
       "      <td>zero</td>\n",
       "      <td>Night</td>\n",
       "      <td>Mumbai</td>\n",
       "      <td>Economy</td>\n",
       "      <td>1</td>\n",
       "      <td>5953</td>\n",
       "    </tr>\n",
       "    <tr>\n",
       "      <th>1</th>\n",
       "      <td>SpiceJet</td>\n",
       "      <td>Delhi</td>\n",
       "      <td>Early_Morning</td>\n",
       "      <td>zero</td>\n",
       "      <td>Morning</td>\n",
       "      <td>Mumbai</td>\n",
       "      <td>Economy</td>\n",
       "      <td>1</td>\n",
       "      <td>5953</td>\n",
       "    </tr>\n",
       "    <tr>\n",
       "      <th>2</th>\n",
       "      <td>AirAsia</td>\n",
       "      <td>Delhi</td>\n",
       "      <td>Early_Morning</td>\n",
       "      <td>zero</td>\n",
       "      <td>Early_Morning</td>\n",
       "      <td>Mumbai</td>\n",
       "      <td>Economy</td>\n",
       "      <td>1</td>\n",
       "      <td>5956</td>\n",
       "    </tr>\n",
       "    <tr>\n",
       "      <th>3</th>\n",
       "      <td>Vistara</td>\n",
       "      <td>Delhi</td>\n",
       "      <td>Morning</td>\n",
       "      <td>zero</td>\n",
       "      <td>Afternoon</td>\n",
       "      <td>Mumbai</td>\n",
       "      <td>Economy</td>\n",
       "      <td>1</td>\n",
       "      <td>5955</td>\n",
       "    </tr>\n",
       "    <tr>\n",
       "      <th>4</th>\n",
       "      <td>Vistara</td>\n",
       "      <td>Delhi</td>\n",
       "      <td>Morning</td>\n",
       "      <td>zero</td>\n",
       "      <td>Morning</td>\n",
       "      <td>Mumbai</td>\n",
       "      <td>Economy</td>\n",
       "      <td>1</td>\n",
       "      <td>5955</td>\n",
       "    </tr>\n",
       "  </tbody>\n",
       "</table>\n",
       "</div>"
      ],
      "text/plain": [
       "    airline source_city departure_time stops   arrival_time destination_city  \\\n",
       "0  SpiceJet       Delhi        Evening  zero          Night           Mumbai   \n",
       "1  SpiceJet       Delhi  Early_Morning  zero        Morning           Mumbai   \n",
       "2   AirAsia       Delhi  Early_Morning  zero  Early_Morning           Mumbai   \n",
       "3   Vistara       Delhi        Morning  zero      Afternoon           Mumbai   \n",
       "4   Vistara       Delhi        Morning  zero        Morning           Mumbai   \n",
       "\n",
       "     class  days_left  price  \n",
       "0  Economy          1   5953  \n",
       "1  Economy          1   5953  \n",
       "2  Economy          1   5956  \n",
       "3  Economy          1   5955  \n",
       "4  Economy          1   5955  "
      ]
     },
     "execution_count": 18,
     "metadata": {},
     "output_type": "execute_result"
    }
   ],
   "source": [
    "df.head()"
   ]
  },
  {
   "cell_type": "code",
   "execution_count": 19,
   "metadata": {
    "colab": {
     "base_uri": "https://localhost:8080/"
    },
    "executionInfo": {
     "elapsed": 438,
     "status": "ok",
     "timestamp": 1732009276691,
     "user": {
      "displayName": "Sai Kiran",
      "userId": "01262898004854814321"
     },
     "user_tz": -330
    },
    "id": "QkuywxqEy-tU",
    "outputId": "2fc2a242-68aa-4a60-800a-3124c2892133"
   },
   "outputs": [
    {
     "name": "stdout",
     "output_type": "stream",
     "text": [
      "<class 'pandas.core.frame.DataFrame'>\n",
      "RangeIndex: 300153 entries, 0 to 300152\n",
      "Data columns (total 9 columns):\n",
      " #   Column            Non-Null Count   Dtype \n",
      "---  ------            --------------   ----- \n",
      " 0   airline           300153 non-null  object\n",
      " 1   source_city       300153 non-null  object\n",
      " 2   departure_time    300153 non-null  object\n",
      " 3   stops             300153 non-null  object\n",
      " 4   arrival_time      300153 non-null  object\n",
      " 5   destination_city  300153 non-null  object\n",
      " 6   class             300153 non-null  object\n",
      " 7   days_left         300153 non-null  int64 \n",
      " 8   price             300153 non-null  int64 \n",
      "dtypes: int64(2), object(7)\n",
      "memory usage: 20.6+ MB\n"
     ]
    }
   ],
   "source": [
    "df.info()"
   ]
  },
  {
   "cell_type": "code",
   "execution_count": 20,
   "metadata": {
    "colab": {
     "base_uri": "https://localhost:8080/"
    },
    "executionInfo": {
     "elapsed": 450,
     "status": "ok",
     "timestamp": 1732009303941,
     "user": {
      "displayName": "Sai Kiran",
      "userId": "01262898004854814321"
     },
     "user_tz": -330
    },
    "id": "KrcI_bsEy-36",
    "outputId": "e382f087-f79f-49df-b95f-edd8b98e21b8"
   },
   "outputs": [
    {
     "data": {
      "text/plain": [
       "array(['SpiceJet', 'AirAsia', 'Vistara', 'GO_FIRST', 'Indigo',\n",
       "       'Air_India'], dtype=object)"
      ]
     },
     "execution_count": 20,
     "metadata": {},
     "output_type": "execute_result"
    }
   ],
   "source": [
    "df['airline'].unique()"
   ]
  },
  {
   "cell_type": "code",
   "execution_count": 21,
   "metadata": {
    "colab": {
     "base_uri": "https://localhost:8080/",
     "height": 520
    },
    "executionInfo": {
     "elapsed": 819,
     "status": "ok",
     "timestamp": 1732009321855,
     "user": {
      "displayName": "Sai Kiran",
      "userId": "01262898004854814321"
     },
     "user_tz": -330
    },
    "id": "ySUN1694y_AU",
    "outputId": "18c48e17-a076-4ce0-9130-f4d7a2a5e999"
   },
   "outputs": [
    {
     "data": {
      "text/plain": [
       "<Axes: xlabel='airline'>"
      ]
     },
     "execution_count": 21,
     "metadata": {},
     "output_type": "execute_result"
    },
    {
     "data": {
      "image/png": "[encoded data removed]",
      "text/plain": [
       "<Figure size 640x480 with 1 Axes>"
      ]
     },
     "metadata": {},
     "output_type": "display_data"
    }
   ],
   "source": [
    "df.groupby('airline')['price'].mean().sort_values().plot(kind = 'bar')"
   ]
  },
  {
   "cell_type": "code",
   "execution_count": 22,
   "metadata": {
    "colab": {
     "base_uri": "https://localhost:8080/"
    },
    "executionInfo": {
     "elapsed": 448,
     "status": "ok",
     "timestamp": 1732009348854,
     "user": {
      "displayName": "Sai Kiran",
      "userId": "01262898004854814321"
     },
     "user_tz": -330
    },
    "id": "7AbhN6CBzNEI",
    "outputId": "e55792d1-1ed2-45d6-d6c8-d13a7b3b69b6"
   },
   "outputs": [
    {
     "data": {
      "text/plain": [
       "array(['Economy', 'Business'], dtype=object)"
      ]
     },
     "execution_count": 22,
     "metadata": {},
     "output_type": "execute_result"
    }
   ],
   "source": [
    "df['class'].unique()"
   ]
  },
  {
   "cell_type": "code",
   "execution_count": 23,
   "metadata": {
    "colab": {
     "base_uri": "https://localhost:8080/",
     "height": 520
    },
    "executionInfo": {
     "elapsed": 550,
     "status": "ok",
     "timestamp": 1732009363746,
     "user": {
      "displayName": "Sai Kiran",
      "userId": "01262898004854814321"
     },
     "user_tz": -330
    },
    "id": "sPyQXXizzNHy",
    "outputId": "1c169040-8116-4bc0-aaa1-dc7d73e81256"
   },
   "outputs": [
    {
     "data": {
      "text/plain": [
       "<Axes: xlabel='airline'>"
      ]
     },
     "execution_count": 23,
     "metadata": {},
     "output_type": "execute_result"
    },
    {
     "data": {
      "image/png": "[encoded data removed]",
      "text/plain": [
       "<Figure size 640x480 with 1 Axes>"
      ]
     },
     "metadata": {},
     "output_type": "display_data"
    }
   ],
   "source": [
    "df[df['class'] == 'Economy'].groupby('airline')['price'].mean().sort_values().plot(kind = 'bar')"
   ]
  },
  {
   "cell_type": "code",
   "execution_count": 24,
   "metadata": {
    "colab": {
     "base_uri": "https://localhost:8080/",
     "height": 513
    },
    "executionInfo": {
     "elapsed": 516,
     "status": "ok",
     "timestamp": 1732009376921,
     "user": {
      "displayName": "Sai Kiran",
      "userId": "01262898004854814321"
     },
     "user_tz": -330
    },
    "id": "xbtcnZ8gzNKZ",
    "outputId": "77e89720-bf66-468a-e6be-8e9ec6d9addb"
   },
   "outputs": [
    {
     "data": {
      "text/plain": [
       "<Axes: xlabel='airline'>"
      ]
     },
     "execution_count": 24,
     "metadata": {},
     "output_type": "execute_result"
    },
    {
     "data": {
      "image/png": "[encoded data removed]",
      "text/plain": [
       "<Figure size 640x480 with 1 Axes>"
      ]
     },
     "metadata": {},
     "output_type": "display_data"
    }
   ],
   "source": [
    "df[df['class'] == 'Business'].groupby('airline')['price'].mean().sort_values().plot(kind = 'bar')"
   ]
  },
  {
   "cell_type": "code",
   "execution_count": 25,
   "metadata": {
    "colab": {
     "base_uri": "https://localhost:8080/",
     "height": 520
    },
    "executionInfo": {
     "elapsed": 553,
     "status": "ok",
     "timestamp": 1732009397973,
     "user": {
      "displayName": "Sai Kiran",
      "userId": "01262898004854814321"
     },
     "user_tz": -330
    },
    "id": "A8MLXSNxzbvV",
    "outputId": "1c207664-ee4a-4fc1-fcca-10fad0b1c332"
   },
   "outputs": [
    {
     "data": {
      "text/plain": [
       "<Axes: xlabel='airline'>"
      ]
     },
     "execution_count": 25,
     "metadata": {},
     "output_type": "execute_result"
    },
    {
     "data": {
      "image/png": "[encoded data removed]",
      "text/plain": [
       "<Figure size 640x480 with 1 Axes>"
      ]
     },
     "metadata": {},
     "output_type": "display_data"
    }
   ],
   "source": [
    "df[df['class'] == 'Economy'].groupby('airline')['price'].mean().sort_values().plot(kind = 'bar')"
   ]
  },
  {
   "cell_type": "code",
   "execution_count": 26,
   "metadata": {
    "id": "z8OxyKTHzbyv"
   },
   "outputs": [],
   "source": [
    "df['airline'] = df['airline'].map({'AirAsia': 0, 'Indigo': 1, 'GO_FIRST': 2, 'SpiceJet': 3, 'Air_India': 4, 'Vistara': 5})"
   ]
  },
  {
   "cell_type": "code",
   "execution_count": 27,
   "metadata": {
    "colab": {
     "base_uri": "https://localhost:8080/",
     "height": 226
    },
    "executionInfo": {
     "elapsed": 476,
     "status": "ok",
     "timestamp": 1732009454607,
     "user": {
      "displayName": "Sai Kiran",
      "userId": "01262898004854814321"
     },
     "user_tz": -330
    },
    "id": "A4xxud0vzkIn",
    "outputId": "de03dace-f92a-4c4e-94f8-ecbf964b5d9d"
   },
   "outputs": [
    {
     "data": {
      "text/html": [
       "<div>\n",
       "<style scoped>\n",
       "    .dataframe tbody tr th:only-of-type {\n",
       "        vertical-align: middle;\n",
       "    }\n",
       "\n",
       "    .dataframe tbody tr th {\n",
       "        vertical-align: top;\n",
       "    }\n",
       "\n",
       "    .dataframe thead th {\n",
       "        text-align: right;\n",
       "    }\n",
       "</style>\n",
       "<table border=\"1\" class=\"dataframe\">\n",
       "  <thead>\n",
       "    <tr style=\"text-align: right;\">\n",
       "      <th></th>\n",
       "      <th>airline</th>\n",
       "      <th>source_city</th>\n",
       "      <th>departure_time</th>\n",
       "      <th>stops</th>\n",
       "      <th>arrival_time</th>\n",
       "      <th>destination_city</th>\n",
       "      <th>class</th>\n",
       "      <th>days_left</th>\n",
       "      <th>price</th>\n",
       "    </tr>\n",
       "  </thead>\n",
       "  <tbody>\n",
       "    <tr>\n",
       "      <th>0</th>\n",
       "      <td>3</td>\n",
       "      <td>Delhi</td>\n",
       "      <td>Evening</td>\n",
       "      <td>zero</td>\n",
       "      <td>Night</td>\n",
       "      <td>Mumbai</td>\n",
       "      <td>Economy</td>\n",
       "      <td>1</td>\n",
       "      <td>5953</td>\n",
       "    </tr>\n",
       "    <tr>\n",
       "      <th>1</th>\n",
       "      <td>3</td>\n",
       "      <td>Delhi</td>\n",
       "      <td>Early_Morning</td>\n",
       "      <td>zero</td>\n",
       "      <td>Morning</td>\n",
       "      <td>Mumbai</td>\n",
       "      <td>Economy</td>\n",
       "      <td>1</td>\n",
       "      <td>5953</td>\n",
       "    </tr>\n",
       "    <tr>\n",
       "      <th>2</th>\n",
       "      <td>0</td>\n",
       "      <td>Delhi</td>\n",
       "      <td>Early_Morning</td>\n",
       "      <td>zero</td>\n",
       "      <td>Early_Morning</td>\n",
       "      <td>Mumbai</td>\n",
       "      <td>Economy</td>\n",
       "      <td>1</td>\n",
       "      <td>5956</td>\n",
       "    </tr>\n",
       "    <tr>\n",
       "      <th>3</th>\n",
       "      <td>5</td>\n",
       "      <td>Delhi</td>\n",
       "      <td>Morning</td>\n",
       "      <td>zero</td>\n",
       "      <td>Afternoon</td>\n",
       "      <td>Mumbai</td>\n",
       "      <td>Economy</td>\n",
       "      <td>1</td>\n",
       "      <td>5955</td>\n",
       "    </tr>\n",
       "    <tr>\n",
       "      <th>4</th>\n",
       "      <td>5</td>\n",
       "      <td>Delhi</td>\n",
       "      <td>Morning</td>\n",
       "      <td>zero</td>\n",
       "      <td>Morning</td>\n",
       "      <td>Mumbai</td>\n",
       "      <td>Economy</td>\n",
       "      <td>1</td>\n",
       "      <td>5955</td>\n",
       "    </tr>\n",
       "  </tbody>\n",
       "</table>\n",
       "</div>"
      ],
      "text/plain": [
       "   airline source_city departure_time stops   arrival_time destination_city  \\\n",
       "0        3       Delhi        Evening  zero          Night           Mumbai   \n",
       "1        3       Delhi  Early_Morning  zero        Morning           Mumbai   \n",
       "2        0       Delhi  Early_Morning  zero  Early_Morning           Mumbai   \n",
       "3        5       Delhi        Morning  zero      Afternoon           Mumbai   \n",
       "4        5       Delhi        Morning  zero        Morning           Mumbai   \n",
       "\n",
       "     class  days_left  price  \n",
       "0  Economy          1   5953  \n",
       "1  Economy          1   5953  \n",
       "2  Economy          1   5956  \n",
       "3  Economy          1   5955  \n",
       "4  Economy          1   5955  "
      ]
     },
     "execution_count": 27,
     "metadata": {},
     "output_type": "execute_result"
    }
   ],
   "source": [
    "df.head()"
   ]
  },
  {
   "cell_type": "code",
   "execution_count": 28,
   "metadata": {
    "colab": {
     "base_uri": "https://localhost:8080/"
    },
    "executionInfo": {
     "elapsed": 442,
     "status": "ok",
     "timestamp": 1732009464172,
     "user": {
      "displayName": "Sai Kiran",
      "userId": "01262898004854814321"
     },
     "user_tz": -330
    },
    "id": "OI7A5lFFzkFZ",
    "outputId": "fe14384d-b097-4518-8da2-4fc2703e3ea8"
   },
   "outputs": [
    {
     "data": {
      "text/plain": [
       "array(['Delhi', 'Mumbai', 'Bangalore', 'Kolkata', 'Hyderabad', 'Chennai'],\n",
       "      dtype=object)"
      ]
     },
     "execution_count": 28,
     "metadata": {},
     "output_type": "execute_result"
    }
   ],
   "source": [
    "df['source_city'].unique()"
   ]
  },
  {
   "cell_type": "code",
   "execution_count": 29,
   "metadata": {
    "colab": {
     "base_uri": "https://localhost:8080/",
     "height": 529
    },
    "executionInfo": {
     "elapsed": 619,
     "status": "ok",
     "timestamp": 1732009486411,
     "user": {
      "displayName": "Sai Kiran",
      "userId": "01262898004854814321"
     },
     "user_tz": -330
    },
    "id": "qqR4D0jxzb4X",
    "outputId": "50226785-03d5-475e-bbc7-245d25bfd17c"
   },
   "outputs": [
    {
     "data": {
      "text/plain": [
       "<Axes: xlabel='source_city'>"
      ]
     },
     "execution_count": 29,
     "metadata": {},
     "output_type": "execute_result"
    },
    {
     "data": {
      "image/png": "[encoded data removed]",
      "text/plain": [
       "<Figure size 640x480 with 1 Axes>"
      ]
     },
     "metadata": {},
     "output_type": "display_data"
    }
   ],
   "source": [
    "df.groupby('source_city')['price'].mean().sort_values().plot(kind = 'bar')"
   ]
  },
  {
   "cell_type": "code",
   "execution_count": 30,
   "metadata": {
    "id": "JmO39bB8z2fI"
   },
   "outputs": [],
   "source": [
    "df['source_city'] = df['source_city'].map({'Delhi': 0, 'Hyderabad': 1, 'Bangalore': 2, 'Mumbai': 3, 'Kolkata': 4, 'Chennai': 5})"
   ]
  },
  {
   "cell_type": "code",
   "execution_count": 31,
   "metadata": {
    "colab": {
     "base_uri": "https://localhost:8080/"
    },
    "executionInfo": {
     "elapsed": 480,
     "status": "ok",
     "timestamp": 1732009515610,
     "user": {
      "displayName": "Sai Kiran",
      "userId": "01262898004854814321"
     },
     "user_tz": -330
    },
    "id": "J7Is4tTOz66T",
    "outputId": "4405448c-b0f9-463a-c8a3-40eb88efa303"
   },
   "outputs": [
    {
     "name": "stdout",
     "output_type": "stream",
     "text": [
      "<class 'pandas.core.frame.DataFrame'>\n",
      "RangeIndex: 300153 entries, 0 to 300152\n",
      "Data columns (total 9 columns):\n",
      " #   Column            Non-Null Count   Dtype \n",
      "---  ------            --------------   ----- \n",
      " 0   airline           300153 non-null  int64 \n",
      " 1   source_city       300153 non-null  int64 \n",
      " 2   departure_time    300153 non-null  object\n",
      " 3   stops             300153 non-null  object\n",
      " 4   arrival_time      300153 non-null  object\n",
      " 5   destination_city  300153 non-null  object\n",
      " 6   class             300153 non-null  object\n",
      " 7   days_left         300153 non-null  int64 \n",
      " 8   price             300153 non-null  int64 \n",
      "dtypes: int64(4), object(5)\n",
      "memory usage: 20.6+ MB\n"
     ]
    }
   ],
   "source": [
    "df.info()"
   ]
  },
  {
   "cell_type": "code",
   "execution_count": 32,
   "metadata": {
    "colab": {
     "base_uri": "https://localhost:8080/",
     "height": 529
    },
    "executionInfo": {
     "elapsed": 537,
     "status": "ok",
     "timestamp": 1732009531470,
     "user": {
      "displayName": "Sai Kiran",
      "userId": "01262898004854814321"
     },
     "user_tz": -330
    },
    "id": "2pqd-cTJz6_2",
    "outputId": "6407676f-b419-450e-c37c-22d55c551d00"
   },
   "outputs": [
    {
     "data": {
      "text/plain": [
       "<Axes: xlabel='destination_city'>"
      ]
     },
     "execution_count": 32,
     "metadata": {},
     "output_type": "execute_result"
    },
    {
     "data": {
      "image/png": "[encoded data removed]",
      "text/plain": [
       "<Figure size 640x480 with 1 Axes>"
      ]
     },
     "metadata": {},
     "output_type": "display_data"
    }
   ],
   "source": [
    "df.groupby('destination_city')['price'].mean().sort_values().plot(kind = 'bar')"
   ]
  },
  {
   "cell_type": "code",
   "execution_count": 33,
   "metadata": {
    "id": "jMaqm3F6z2jC"
   },
   "outputs": [],
   "source": [
    "df['destination_city'] = df['destination_city'].map({'Delhi': 0, 'Hyderabad': 1, 'Mumbai': 2, 'Bangalore': 3, 'Chennai': 4, 'Kolkata': 5})"
   ]
  },
  {
   "cell_type": "code",
   "execution_count": 34,
   "metadata": {
    "colab": {
     "base_uri": "https://localhost:8080/"
    },
    "executionInfo": {
     "elapsed": 440,
     "status": "ok",
     "timestamp": 1732009714225,
     "user": {
      "displayName": "Sai Kiran",
      "userId": "01262898004854814321"
     },
     "user_tz": -330
    },
    "id": "Y31ecZgR0GcT",
    "outputId": "b3d75d65-4d05-4ff2-d547-311838a1006c"
   },
   "outputs": [
    {
     "data": {
      "text/plain": [
       "array(['Evening', 'Early_Morning', 'Morning', 'Afternoon', 'Night',\n",
       "       'Late_Night'], dtype=object)"
      ]
     },
     "execution_count": 34,
     "metadata": {},
     "output_type": "execute_result"
    }
   ],
   "source": [
    "df['departure_time'].unique()"
   ]
  },
  {
   "cell_type": "code",
   "execution_count": 35,
   "metadata": {
    "id": "dCHsUfoT0Ght"
   },
   "outputs": [],
   "source": [
    "df['departure_time'] = df['departure_time'].map({'Early_Morning': 0, 'Morning': 1, 'Afternoon': 2, 'Evening': 3, 'Night': 4, 'Late_Night': 5})"
   ]
  },
  {
   "cell_type": "code",
   "execution_count": 36,
   "metadata": {
    "id": "7SNWviY_0Gl7"
   },
   "outputs": [],
   "source": [
    "df['arrival_time'] = df['arrival_time'].map({'Early_Morning': 0, 'Morning': 1, 'Afternoon': 2, 'Evening': 3, 'Night': 4, 'Late_Night': 5})"
   ]
  },
  {
   "cell_type": "code",
   "execution_count": 37,
   "metadata": {
    "colab": {
     "base_uri": "https://localhost:8080/"
    },
    "executionInfo": {
     "elapsed": 637,
     "status": "ok",
     "timestamp": 1732009759749,
     "user": {
      "displayName": "Sai Kiran",
      "userId": "01262898004854814321"
     },
     "user_tz": -330
    },
    "id": "EHYDur2q0ydQ",
    "outputId": "40f928df-7246-4afa-f96a-a61c01e0caa5"
   },
   "outputs": [
    {
     "name": "stdout",
     "output_type": "stream",
     "text": [
      "<class 'pandas.core.frame.DataFrame'>\n",
      "RangeIndex: 300153 entries, 0 to 300152\n",
      "Data columns (total 9 columns):\n",
      " #   Column            Non-Null Count   Dtype \n",
      "---  ------            --------------   ----- \n",
      " 0   airline           300153 non-null  int64 \n",
      " 1   source_city       300153 non-null  int64 \n",
      " 2   departure_time    300153 non-null  int64 \n",
      " 3   stops             300153 non-null  object\n",
      " 4   arrival_time      300153 non-null  int64 \n",
      " 5   destination_city  300153 non-null  int64 \n",
      " 6   class             300153 non-null  object\n",
      " 7   days_left         300153 non-null  int64 \n",
      " 8   price             300153 non-null  int64 \n",
      "dtypes: int64(7), object(2)\n",
      "memory usage: 20.6+ MB\n"
     ]
    }
   ],
   "source": [
    "df.info()"
   ]
  },
  {
   "cell_type": "code",
   "execution_count": 38,
   "metadata": {
    "colab": {
     "base_uri": "https://localhost:8080/"
    },
    "executionInfo": {
     "elapsed": 445,
     "status": "ok",
     "timestamp": 1732009770557,
     "user": {
      "displayName": "Sai Kiran",
      "userId": "01262898004854814321"
     },
     "user_tz": -330
    },
    "id": "2cuAXha60yhV",
    "outputId": "583f12a5-8180-4ba2-ab75-21c0a803f324"
   },
   "outputs": [
    {
     "data": {
      "text/plain": [
       "array(['zero', 'one', 'two_or_more'], dtype=object)"
      ]
     },
     "execution_count": 38,
     "metadata": {},
     "output_type": "execute_result"
    }
   ],
   "source": [
    "df['stops'].unique()"
   ]
  },
  {
   "cell_type": "code",
   "execution_count": 39,
   "metadata": {
    "id": "BCzdFP54075V"
   },
   "outputs": [],
   "source": [
    "df['stops'] = df['stops'].map({'zero': 0, 'one':1 , 'two_or_more': 2})"
   ]
  },
  {
   "cell_type": "code",
   "execution_count": 40,
   "metadata": {
    "colab": {
     "base_uri": "https://localhost:8080/"
    },
    "executionInfo": {
     "elapsed": 475,
     "status": "ok",
     "timestamp": 1732009824411,
     "user": {
      "displayName": "Sai Kiran",
      "userId": "01262898004854814321"
     },
     "user_tz": -330
    },
    "id": "91gR386307_k",
    "outputId": "fe0bda48-3b07-4967-af6d-e9782c08aebd"
   },
   "outputs": [
    {
     "data": {
      "text/plain": [
       "array(['Economy', 'Business'], dtype=object)"
      ]
     },
     "execution_count": 40,
     "metadata": {},
     "output_type": "execute_result"
    }
   ],
   "source": [
    "df['class'].unique()"
   ]
  },
  {
   "cell_type": "code",
   "execution_count": 41,
   "metadata": {
    "id": "3Rl3BqFt1I8X"
   },
   "outputs": [],
   "source": [
    "df['class'] = df['class'].map({'Economy': 0, 'Business': 1})"
   ]
  },
  {
   "cell_type": "code",
   "execution_count": 42,
   "metadata": {
    "colab": {
     "base_uri": "https://localhost:8080/"
    },
    "executionInfo": {
     "elapsed": 480,
     "status": "ok",
     "timestamp": 1732009856765,
     "user": {
      "displayName": "Sai Kiran",
      "userId": "01262898004854814321"
     },
     "user_tz": -330
    },
    "id": "-TTowZwi1JAB",
    "outputId": "7608be97-8651-4999-bb89-1324cb027efc"
   },
   "outputs": [
    {
     "name": "stdout",
     "output_type": "stream",
     "text": [
      "<class 'pandas.core.frame.DataFrame'>\n",
      "RangeIndex: 300153 entries, 0 to 300152\n",
      "Data columns (total 9 columns):\n",
      " #   Column            Non-Null Count   Dtype\n",
      "---  ------            --------------   -----\n",
      " 0   airline           300153 non-null  int64\n",
      " 1   source_city       300153 non-null  int64\n",
      " 2   departure_time    300153 non-null  int64\n",
      " 3   stops             300153 non-null  int64\n",
      " 4   arrival_time      300153 non-null  int64\n",
      " 5   destination_city  300153 non-null  int64\n",
      " 6   class             300153 non-null  int64\n",
      " 7   days_left         300153 non-null  int64\n",
      " 8   price             300153 non-null  int64\n",
      "dtypes: int64(9)\n",
      "memory usage: 20.6 MB\n"
     ]
    }
   ],
   "source": [
    "df.info()"
   ]
  },
  {
   "cell_type": "code",
   "execution_count": 43,
   "metadata": {
    "colab": {
     "base_uri": "https://localhost:8080/",
     "height": 366
    },
    "executionInfo": {
     "elapsed": 442,
     "status": "ok",
     "timestamp": 1732009870523,
     "user": {
      "displayName": "Sai Kiran",
      "userId": "01262898004854814321"
     },
     "user_tz": -330
    },
    "id": "T9IARi3K1JCp",
    "outputId": "906d67a7-614b-4731-d5c6-ae1758389a63"
   },
   "outputs": [
    {
     "data": {
      "text/plain": [
       "airline             0\n",
       "source_city         0\n",
       "departure_time      0\n",
       "stops               0\n",
       "arrival_time        0\n",
       "destination_city    0\n",
       "class               0\n",
       "days_left           0\n",
       "price               0\n",
       "dtype: int64"
      ]
     },
     "execution_count": 43,
     "metadata": {},
     "output_type": "execute_result"
    }
   ],
   "source": [
    "df.isnull().sum()"
   ]
  },
  {
   "cell_type": "code",
   "execution_count": 44,
   "metadata": {
    "id": "0dSytGnl1UQV"
   },
   "outputs": [],
   "source": [
    "from sklearn.model_selection import train_test_split"
   ]
  },
  {
   "cell_type": "code",
   "execution_count": 45,
   "metadata": {
    "id": "nCimq83I1UUM"
   },
   "outputs": [],
   "source": [
    "X = df.drop(['price'], axis = 1)\n",
    "y = df['price']"
   ]
  },
  {
   "cell_type": "code",
   "execution_count": 46,
   "metadata": {
    "colab": {
     "base_uri": "https://localhost:8080/"
    },
    "executionInfo": {
     "elapsed": 510,
     "status": "ok",
     "timestamp": 1732009921483,
     "user": {
      "displayName": "Sai Kiran",
      "userId": "01262898004854814321"
     },
     "user_tz": -330
    },
    "id": "gE9SNcyz1UW2",
    "outputId": "53aefe2f-eca2-4489-9aa6-d9d77ff1c5d0"
   },
   "outputs": [
    {
     "data": {
      "text/plain": [
       "(300153, 8)"
      ]
     },
     "execution_count": 46,
     "metadata": {},
     "output_type": "execute_result"
    }
   ],
   "source": [
    "X.shape"
   ]
  },
  {
   "cell_type": "code",
   "execution_count": 47,
   "metadata": {
    "id": "QHo9rNwp1gxa"
   },
   "outputs": [],
   "source": [
    "X_train, X_test, y_train,  y_test = train_test_split(X, y, test_size = 0.2, random_state = 42)"
   ]
  },
  {
   "cell_type": "code",
   "execution_count": 48,
   "metadata": {
    "colab": {
     "base_uri": "https://localhost:8080/"
    },
    "executionInfo": {
     "elapsed": 487,
     "status": "ok",
     "timestamp": 1732010073219,
     "user": {
      "displayName": "Sai Kiran",
      "userId": "01262898004854814321"
     },
     "user_tz": -330
    },
    "id": "XVcNKqXN2BfN",
    "outputId": "b4f61128-3ace-42f2-bc11-7a68ea768761"
   },
   "outputs": [
    {
     "data": {
      "text/plain": [
       "0.9044584382698119"
      ]
     },
     "execution_count": 48,
     "metadata": {},
     "output_type": "execute_result"
    }
   ],
   "source": [
    "from sklearn.linear_model import LinearRegression\n",
    "\n",
    "\n",
    "lr = LinearRegression()\n",
    "\n",
    "\n",
    "lr.fit(X_train, y_train)\n",
    "\n",
    "\n",
    "lr.score(X_test, y_test)"
   ]
  },
  {
   "cell_type": "code",
   "execution_count": 49,
   "metadata": {
    "colab": {
     "base_uri": "https://localhost:8080/"
    },
    "executionInfo": {
     "elapsed": 454,
     "status": "ok",
     "timestamp": 1732010136113,
     "user": {
      "displayName": "Sai Kiran",
      "userId": "01262898004854814321"
     },
     "user_tz": -330
    },
    "id": "Lnk9UfV-2GcI",
    "outputId": "b31f70cb-7567-49cf-c19c-4c51a5cf35f0"
   },
   "outputs": [
    {
     "data": {
      "text/plain": [
       "4497.021291759773"
      ]
     },
     "execution_count": 49,
     "metadata": {},
     "output_type": "execute_result"
    }
   ],
   "source": [
    "from sklearn.metrics import mean_absolute_error\n",
    "\n",
    "y_pred = lr.predict(X_test)\n",
    "\n",
    "mean_absolute_error(y_test, y_pred)"
   ]
  },
  {
   "cell_type": "code",
   "execution_count": 50,
   "metadata": {
    "colab": {
     "base_uri": "https://localhost:8080/"
    },
    "executionInfo": {
     "elapsed": 471,
     "status": "ok",
     "timestamp": 1732012346137,
     "user": {
      "displayName": "Sai Kiran",
      "userId": "01262898004854814321"
     },
     "user_tz": -330
    },
    "id": "TyaZaf545Cgm",
    "outputId": "a3a4beab-cc95-4ddd-eecd-a4cd323c7ac4"
   },
   "outputs": [
    {
     "name": "stdout",
     "output_type": "stream",
     "text": [
      "Mean Absolute Error: 4497.021291759773\n",
      "Root Mean Squared Error: 7017.833102959787\n",
      "R-squared: 0.9044584382698119\n"
     ]
    }
   ],
   "source": [
    "from sklearn.metrics import mean_squared_error, r2_score\n",
    "import numpy as np\n",
    "\n",
    "mae = mean_absolute_error(y_test, y_pred)\n",
    "print(f\"Mean Absolute Error: {mae}\")\n",
    "\n",
    "rmse = np.sqrt(mean_squared_error(y_test, y_pred))\n",
    "print(f\"Root Mean Squared Error: {rmse}\")\n",
    "\n",
    "r2 = r2_score(y_test, y_pred)\n",
    "print(f\"R-squared: {r2}\")"
   ]
  },
  {
   "cell_type": "code",
   "execution_count": 51,
   "metadata": {},
   "outputs": [
    {
     "data": {
      "image/png": "[encoded data removed]",
      "text/plain": [
       "<Figure size 1000x800 with 2 Axes>"
      ]
     },
     "metadata": {},
     "output_type": "display_data"
    }
   ],
   "source": [
    "import seaborn as sns\n",
    "import matplotlib.pyplot as plt\n",
    "\n",
    "\n",
    "correlation_matrix = df.corr()\n",
    "\n",
    "plt.figure(figsize=(10, 8))\n",
    "\n",
    "sns.heatmap(correlation_matrix, annot=True, cmap='coolwarm', fmt=\".2f\", linewidths=0.5)\n",
    "\n",
    "plt.title(\"Correlation Matrix of Features\", fontsize=16)\n",
    "plt.show()"
   ]
  },
  {
   "cell_type": "code",
   "execution_count": 101,
   "metadata": {
    "colab": {
     "base_uri": "https://localhost:8080/"
    },
    "executionInfo": {
     "elapsed": 29782,
     "status": "ok",
     "timestamp": 1732013085531,
     "user": {
      "displayName": "Sai Kiran",
      "userId": "01262898004854814321"
     },
     "user_tz": -330
    },
    "id": "1VrMhNBoAEVI",
    "outputId": "b9ced8c9-dcd1-4b7e-9f73-741f2da4f226"
   },
   "outputs": [
    {
     "name": "stdout",
     "output_type": "stream",
     "text": [
      "Enter flight details using index numbers:\n",
      "Airlines (0-5): ['AirAsia', 'Indigo', 'GO_FIRST', 'SpiceJet', 'Air_India', 'Vistara']\n"
     ]
    },
    {
     "name": "stdin",
     "output_type": "stream",
     "text": [
      "Enter airline index:  4\n"
     ]
    },
    {
     "name": "stdout",
     "output_type": "stream",
     "text": [
      "Source Cities (0-5): ['Delhi', 'Hyderabad', 'Bangalore', 'Mumbai', 'Kolkata', 'Chennai']\n"
     ]
    },
    {
     "name": "stdin",
     "output_type": "stream",
     "text": [
      "Enter source city index:  0\n"
     ]
    },
    {
     "name": "stdout",
     "output_type": "stream",
     "text": [
      "Destination Cities (0-5): ['Delhi', 'Hyderabad', 'Mumbai', 'Bangalore', 'Chennai', 'Kolkata']\n"
     ]
    },
    {
     "name": "stdin",
     "output_type": "stream",
     "text": [
      "Enter destination city index:  4\n"
     ]
    },
    {
     "name": "stdout",
     "output_type": "stream",
     "text": [
      "Departure Times (0-5): ['Early_Morning', 'Morning', 'Afternoon', 'Evening', 'Night', 'Late_Night']\n"
     ]
    },
    {
     "name": "stdin",
     "output_type": "stream",
     "text": [
      "Enter departure time index:  1\n"
     ]
    },
    {
     "name": "stdout",
     "output_type": "stream",
     "text": [
      "Arrival Times (0-5): ['Early_Morning', 'Morning', 'Afternoon', 'Evening', 'Night', 'Late_Night']\n"
     ]
    },
    {
     "name": "stdin",
     "output_type": "stream",
     "text": [
      "Enter arrival time index:  3\n",
      "Enter stops (0 for zero, 1 for one, 2 for two_or_more):  2\n",
      "Enter class (0 for Economy, 1 for Business):  0\n",
      "Enter days left until flight:  2\n"
     ]
    },
    {
     "name": "stdout",
     "output_type": "stream",
     "text": [
      "Predicted Price: 9386.919058816398\n"
     ]
    }
   ],
   "source": [
    "import pandas as pd\n",
    "print(\"Enter flight details using index numbers:\")\n",
    "\n",
    "airlines = ['AirAsia', 'Indigo', 'GO_FIRST', 'SpiceJet', 'Air_India', 'Vistara']\n",
    "print(\"Airlines (0-5):\", airlines)\n",
    "airline = int(input(\"Enter airline index: \"))\n",
    "\n",
    "source_cities = ['Delhi', 'Hyderabad', 'Bangalore', 'Mumbai', 'Kolkata', 'Chennai']\n",
    "print(\"Source Cities (0-5):\", source_cities)\n",
    "source_city = int(input(\"Enter source city index: \"))\n",
    "\n",
    "destination_cities = ['Delhi', 'Hyderabad', 'Mumbai', 'Bangalore', 'Chennai', 'Kolkata']\n",
    "print(\"Destination Cities (0-5):\", destination_cities)\n",
    "destination_city = int(input(\"Enter destination city index: \"))\n",
    "\n",
    "departure_times = ['Early_Morning', 'Morning', 'Afternoon', 'Evening', 'Night', 'Late_Night']\n",
    "print(\"Departure Times (0-5):\", departure_times)\n",
    "departure_time = int(input(\"Enter departure time index: \"))\n",
    "\n",
    "arrival_times = ['Early_Morning', 'Morning', 'Afternoon', 'Evening', 'Night', 'Late_Night']\n",
    "print(\"Arrival Times (0-5):\", arrival_times)\n",
    "arrival_time = int(input(\"Enter arrival time index: \"))\n",
    "\n",
    "stops = int(input(\"Enter stops (0 for zero, 1 for one, 2 for two_or_more): \"))\n",
    "class_type = int(input(\"Enter class (0 for Economy, 1 for Business): \"))\n",
    "\n",
    "\n",
    "\n",
    "days_left = int(input(\"Enter days left until flight: \"))\n",
    "# Assuming X_train.columns contains the correct feature names\n",
    "input_data = pd.DataFrame([[airline, source_city, destination_city, departure_time, arrival_time, stops, class_type, days_left]],\n",
    "                         columns=X_train.columns)\n",
    "\n",
    "# Make the prediction using your trained model (lr)\n",
    "predicted_price = lr.predict(input_data)[0]\n",
    "\n",
    "print(f\"Predicted Price: {predicted_price}\")"
   ]
  },
  {
   "cell_type": "code",
   "execution_count": null,
   "metadata": {},
   "outputs": [],
   "source": []
  },
  {
   "cell_type": "code",
   "execution_count": null,
   "metadata": {},
   "outputs": [],
   "source": []
  }
 ],
 "metadata": {
  "colab": {
   "authorship_tag": "ABX9TyMGZXApRJXfIcaRoNtXXcSm",
   "provenance": []
  },
  "kernelspec": {
   "display_name": "Python 3 (ipykernel)",
   "language": "python",
   "name": "python3"
  },
  "language_info": {
   "codemirror_mode": {
    "name": "ipython",
    "version": 3
   },
   "file_extension": ".py",
   "mimetype": "text/x-python",
   "name": "python",
   "nbconvert_exporter": "python",
   "pygments_lexer": "ipython3",
   "version": "3.12.4"
  }
 },
 "nbformat": 4,
 "nbformat_minor": 4
}
